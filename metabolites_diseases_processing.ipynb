{
 "cells": [
  {
   "cell_type": "code",
   "execution_count": 1,
   "metadata": {},
   "outputs": [],
   "source": [
    "import csv\n",
    "import json\n",
    "import pandas as pd \n",
    " "
   ]
  },
  {
   "cell_type": "code",
   "execution_count": 2,
   "metadata": {},
   "outputs": [],
   "source": [
    "\"\"\"\n",
    "# we can map the names of metabolites in those files to the specified database\n",
    "# note that Combined.json contains all the other dbs that we are using, but not toy-mapping.\n",
    "\n",
    "## BC --> ToyMapping\n",
    "## CRC --> PubChem\n",
    "## crohn --> PubChem\n",
    "## lung_plasma --> PubChem\n",
    "## lung_serum --> PubChem\n",
    "\n",
    "\"\"\"\n",
    "names = [\"CRC\", \"BC\", \"crohn\", \"lung_plasma\",\"lung_serum\"]\n",
    "names_mapping1 = \"mapping/Combined.json\"\n",
    "names_mapping2 = \"mapping/toy-mapping.json\"\n",
    "\n",
    "\n"
   ]
  },
  {
   "cell_type": "code",
   "execution_count": null,
   "metadata": {},
   "outputs": [],
   "source": []
  },
  {
   "cell_type": "code",
   "execution_count": 3,
   "metadata": {},
   "outputs": [],
   "source": [
    "def Disease_data_processing_others():\n",
    "    name = \"lung_serum\"  ## change the name here\n",
    "    metabolites3 = {}\n",
    "    not_available = []\n",
    "    n1 = 0\n",
    "    n2 = 0\n",
    "    with open(names_mapping1, 'r') as f:  # check if its the right mapping db \n",
    "        data = json.load(f)\n",
    "    crc = pd.read_csv('diseases/lung_serum.csv')  ## change the name here\n",
    "\n",
    "    metabolites = list(crc.columns)[1:]  # list of all metaoblites in file \n",
    "    \n",
    "    for metabol in metabolites:\n",
    "        if metabol not in data.keys():\n",
    "            not_available.append(metabol)  ## list of not avaialbe metabolites in our db\n",
    "    \n",
    "    crc_new = crc.drop(columns=not_available)  # new pd without not avaiable metabolites \n",
    "    metabolites2 = list(crc_new.columns)[1:]  # list of all available mteabolites\n",
    "    \n",
    "    with open(names_mapping1, 'r') as f:  ## here we start mapping the names step \n",
    "        metabol_data = json.load(f)\n",
    "        for metabol_old in metabolites2:\n",
    "            metabolites3[metabol_old] = metabol_data[metabol_old]  # {old name: new name}\n",
    "            n = len(metabolites3)  # number of rows\n",
    "            \n",
    "    \n",
    "    crc_f = crc_new.rename(columns=metabolites3).T.fillna(0.0)\n",
    "    n2 = len(list(crc_f.columns)) -1  # number of columns \n",
    "    \n",
    "    \n",
    "    n1 =  len(list(crc_f.index)[1:]) # number of rows \n",
    "    metabols = list(crc_f.index)[1:]\n",
    "\n",
    "\n",
    "    for cl in range(0, n2, 1):\n",
    "        temp = {};typee = crc_f[cl][0]\n",
    "        \n",
    "        for rw in range(0, n1, 1):\n",
    "            temp[metabols[rw]] =  crc_f[cl][rw+1]\n",
    "            \n",
    "        with open(\"seperated/\"+name+\"_\"+typee+\"_\"+str(cl)+'.json', 'w') as outfile:\n",
    "            json.dump(temp, outfile)\n",
    "            \n",
    "\n",
    "        \n",
    "        \n",
    "# Disease_data_processing_others()"
   ]
  },
  {
   "cell_type": "code",
   "execution_count": 5,
   "metadata": {},
   "outputs": [],
   "source": [
    "\n",
    "def Disease_data_processing_Breast_cancer():\n",
    "    \n",
    "    name = \"Breast_Cancer\"  ## change the name here\n",
    "    metabolites3 = {}\n",
    "    not_available = []\n",
    "    n1 = 0\n",
    "    n2 = 0\n",
    "    with open(names_mapping2, 'r') as f:  # check if its the right mapping db \n",
    "        data = json.load(f)\n",
    "    crc = pd.read_csv('diseases/BC.csv')  ## change the name here\n",
    "    metabolites = list(crc.columns)[1:]  # list of all metaoblites in file \n",
    "    for metabol in metabolites:\n",
    "            if metabol.lower() not in data.keys():\n",
    "                not_available.append(metabol)  ## list of not avaialbe metabolites in our db              \n",
    "    crc_new = crc.drop(columns=not_available)  # new pd without not avaiable metabolites \n",
    "    metabolites2 = list(crc_new.columns)[1:]  # list of all available mteabolites\n",
    "    \n",
    "    with open(names_mapping2, 'r') as f:  ## here we start mapping the names step \n",
    "        metabol_data = json.load(f)\n",
    "        for metabol_old in metabolites2:\n",
    "            metabolites3[metabol_old] = metabol_data[metabol_old.lower()]  # {old name: new name}\n",
    "            n = len(metabolites3)  # number of rows            \n",
    "    crc_f = crc_new.rename(columns=metabolites3).T.fillna(0.0)\n",
    "    n2 = len(list(crc_f.columns)) -1  # number of columns \n",
    "    n1 =  len(list(crc_f.index)[1:]) # number of rows \n",
    "    metabols = list(crc_f.index)[1:]\n",
    "    for cl in range(0, n2, 1):\n",
    "        temp = {};typee = crc_f[cl][0]\n",
    "        \n",
    "        for rw in range(0, n1, 1):\n",
    "            temp[metabols[rw]] =  crc_f[cl][rw+1]\n",
    "            \n",
    "        with open(\"seperated/\"+name+\"_\"+\"stage_\"+ typee +\"_\" +str(cl)+'.json', 'w') as outfile:\n",
    "            json.dump(temp, outfile)\n",
    "            \n",
    "# Disease_data_processing_Breast_cancer()\n"
   ]
  },
  {
   "cell_type": "code",
   "execution_count": null,
   "metadata": {},
   "outputs": [],
   "source": [
    "# bc = pd.read_csv('diseases/BC.csv') \n",
    "# bc.head(1)"
   ]
  },
  {
   "cell_type": "code",
   "execution_count": null,
   "metadata": {},
   "outputs": [],
   "source": [
    "# crohn = pd.read_csv('diseases/crohn.csv') \n",
    "# crohn.head(1)"
   ]
  },
  {
   "cell_type": "code",
   "execution_count": null,
   "metadata": {},
   "outputs": [],
   "source": [
    "# lung_plasma = pd.read_csv('diseases/lung_plasma.csv') \n",
    "# lung_plasma.head(1)"
   ]
  },
  {
   "cell_type": "code",
   "execution_count": null,
   "metadata": {},
   "outputs": [],
   "source": [
    "# lung_serum = pd.read_csv('diseases/lung_serum.csv') \n",
    "# lung_serum.head(1)"
   ]
  },
  {
   "cell_type": "code",
   "execution_count": null,
   "metadata": {},
   "outputs": [],
   "source": []
  }
 ],
 "metadata": {
  "kernelspec": {
   "display_name": "Python 2",
   "language": "python",
   "name": "python2"
  },
  "language_info": {
   "codemirror_mode": {
    "name": "ipython",
    "version": 2
   },
   "file_extension": ".py",
   "mimetype": "text/x-python",
   "name": "python",
   "nbconvert_exporter": "python",
   "pygments_lexer": "ipython2",
   "version": "2.7.12"
  }
 },
 "nbformat": 4,
 "nbformat_minor": 2
}
